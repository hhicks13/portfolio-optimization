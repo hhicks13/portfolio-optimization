{
  "nbformat": 4,
  "nbformat_minor": 0,
  "metadata": {
    "colab": {
      "name": "Lagrange-Vault.ipynb",
      "provenance": [],
      "authorship_tag": "ABX9TyOrF4bdzkd9mAq2eqsUx+dy",
      "include_colab_link": true
    },
    "kernelspec": {
      "name": "python3",
      "display_name": "Python 3"
    },
    "language_info": {
      "name": "python"
    }
  },
  "cells": [
    {
      "cell_type": "markdown",
      "metadata": {
        "id": "view-in-github",
        "colab_type": "text"
      },
      "source": [
        "<a href=\"https://colab.research.google.com/github/hhicks13/portfolio-optimization/blob/main/Lagrange_Vault.ipynb\" target=\"_parent\"><img src=\"https://colab.research.google.com/assets/colab-badge.svg\" alt=\"Open In Colab\"/></a>"
      ]
    },
    {
      "cell_type": "markdown",
      "metadata": {
        "id": "ooL9d1B25c4r"
      },
      "source": [
        "\n",
        "\\begin{array}{ll} \\mbox{max} & y^T\\mathbf{u} - \\frac{1}{2} \\gamma y^T M y\\\\\n",
        "\\mbox{subject to} & {\\bf \\log y}^Tp = -F,\n",
        "\\end{array}\n",
        "$\\textbf{Solution:}$\n",
        "> Define the Lagrangian:\n",
        "$$\\mathcal{L}(y,\\lambda) = y^T\\mathbf{u} - \\frac{1}{2}\\gamma y^T M y - \\lambda(y^Tp + F) $$\n",
        "> Derive 1st order conditions:\n",
        "$$\\begin{align} \\frac{\\partial\\mathcal{L}}{\\partial y} &=& \\mathbf{u} -\\gamma M y - \\gamma p  \\overset{\\Delta}{=} 0 \\\\\n",
        " \\frac{\\partial\\mathcal{L}}{\\partial \\lambda} &=& F + y^T {\\bf p} \\overset{\\Delta}{=} 0\n",
        " \\end{align}$$\n"
      ]
    },
    {
      "cell_type": "markdown",
      "metadata": {
        "id": "dsMRSOUHL0HN"
      },
      "source": [
        "# model simulator for C-value #"
      ]
    },
    {
      "cell_type": "code",
      "metadata": {
        "id": "yQr1ekHsiTXU"
      },
      "source": [
        "\n",
        "import numpy as np\n",
        "\n",
        "# Underwriter tokens are minted / burned on deposit / withdrawal.\n",
        "# Buyer tokens (options) are minted / burned on purchase / exercise.\n",
        "# Assumption is tokens are 1 = 1 trading unit\n",
        "\n",
        "class OptionsPool:\n",
        "    underlying = 0\n",
        "    underwriters_tokens = 0\n",
        "    buyers_tokens = 0\n",
        "    pool_state = 0\n",
        "    fee_percent = 0\n",
        "    min_trade = 0.0\n",
        "    fees = 0\n",
        "    alpha = 1\n",
        "\n",
        "    def __init__(self, underwriters_tokens, buyers_tokens, pool_state, fee_percent, min_trade, deposit_at_nth_timestamp: int, tick: int):\n",
        "        self.underwriters_tokens = underwriters_tokens\n",
        "        self.buyers_tokens = buyers_tokens\n",
        "        self.pool_state = pool_state\n",
        "        self.fee_percent = fee_percent\n",
        "        self.min_trade = min_trade\n",
        "        self.c_value = 2 * np.e\n",
        "        self.bSch = 0\n",
        "        self.market_price = 0\n",
        "        self.capital = pool_state\n",
        "        self.underlying = 0\n",
        "        self.deposit_at_nth_timestamp = deposit_at_nth_timestamp\n",
        "        self.tick = tick\n",
        "        self.batch_deposits = 0\n",
        "\n",
        "    def update_price(self, underlying: float, bsch_price: float, market_price: float):\n",
        "        self.underlying = underlying\n",
        "        self.bSch = bsch_price\n",
        "        self.market_price = market_price\n",
        "\n",
        "    def update_c_value(self, x_t: float, c_t_1: float):\n",
        "        self.c_value = c_t_1 * np.exp(-self.alpha * x_t)\n",
        "\n",
        "    def slippage(self, x_t: float)  -> float:\n",
        "        return (1 - (np.exp(-self.alpha * x_t))) / (self.alpha * x_t)\n",
        "\n",
        "    def batch_deposit(self, trade: float, new_capital=True):\n",
        "        if (self.tick % self.deposit_at_nth_timestamp) == 0:\n",
        "            self.deposit(trade + self.batch_deposits, new_capital)\n",
        "            self.batch_deposits = 0\n",
        "        else:\n",
        "            self.batch_deposits += trade\n",
        "\n",
        "    # liquidity deposited\n",
        "    def deposit(self, trade: float, new_capital=True):\n",
        "        x_t = trade / (trade + self.pool_state)\n",
        "        self.update_c_value(x_t, self.c_value)\n",
        "\n",
        "        self.pool_state = self.pool_state + trade\n",
        "        if new_capital:\n",
        "            self.capital = self.capital + trade\n",
        "\n",
        "    # liquidity withdrawn\n",
        "    def withdraw(self, trade: float):\n",
        "        x_t = -trade / self.pool_state\n",
        "        self.update_c_value(x_t, self.c_value)\n",
        "\n",
        "        self.pool_state = self.pool_state - trade\n",
        "        self.capital = self.capital - trade\n",
        "\n",
        "    # options purchased\n",
        "    def buy(self, trade: float, apply_fee = False):\n",
        "        # assert trade > self.min_trade\n",
        "        if apply_fee:\n",
        "            trade =  trade + trade * self.fee_percent / 100\n",
        "\n",
        "        premia = (trade / self.underlying) * (self.c_value * self.bSch)\n",
        "        x_t = (-trade) / self.pool_state\n",
        "\n",
        "        # print(premia, trade, self.underlying, self.bSch, self.c_value)\n",
        "\n",
        "        self.update_c_value(x_t, self.c_value)\n",
        "        premia = premia * self.slippage(x_t)\n",
        "\n",
        "        self.pool_state = self.pool_state - trade + premia\n",
        "        self.capital += premia\n",
        "        self.underwriters_tokens = self.underwriters_tokens + trade\n",
        "        self.buyers_tokens = self.buyers_tokens + trade\n",
        "\n",
        "        return premia\n",
        "\n",
        "    def emulate_expiration(self, expired_amount: float):\n",
        "        self.batch_deposit(expired_amount, new_capital=False)\n",
        "\n",
        "        self.buyers_tokens = self.buyers_tokens - expired_amount\n",
        "        self.underwriters_tokens = self.underwriters_tokens - expired_amount\n",
        "\n",
        "    def emulate_execution(self, expired_amount: float, in_the_money: float):\n",
        "        self.batch_deposit(expired_amount - in_the_money, new_capital=False)\n",
        "\n",
        "        self.capital = self.capital - in_the_money\n",
        "        self.buyers_tokens = self.buyers_tokens - expired_amount\n",
        "        self.underwriters_tokens = self.underwriters_tokens - expired_amount"
      ],
      "execution_count": null,
      "outputs": []
    },
    {
      "cell_type": "code",
      "metadata": {
        "id": "Ys3DdFOmB9st"
      },
      "source": [
        "#S: spot price\n",
        "#K: strike price\n",
        "#T: time to maturity\n",
        "#r: interest rate\n",
        "#q: rate of continuous dividend paying asset\n",
        "#v: volatility of underlying asset\n",
        "\n",
        "from scipy.stats import norm\n",
        "def black_scholes(S, K, T, v, option = 'call'):\n",
        "\n",
        "    d1 = (np.log(S / K) + (0.5 * v ** 2) * T) / (v * np.sqrt(T))\n",
        "    d2 = d1 - (v * np.sqrt(T))\n",
        "\n",
        "    if option == 'call':\n",
        "        return S * norm.cdf(d1, 0.0, 1.0) - K * norm.cdf(d2, 0.0, 1.0)\n",
        "    if option == 'put':\n",
        "        return K * norm.cdf(-d2, 0.0, 1.0) - S * norm.cdf(-d1, 0.0, 1.0)"
      ],
      "execution_count": null,
      "outputs": []
    },
    {
      "cell_type": "code",
      "metadata": {
        "id": "a3oJjqIQCADI"
      },
      "source": [
        "import requests\n",
        "\n",
        "import pandas as pd\n",
        "from datetime import datetime, timedelta\n",
        "\n",
        "simulation_volatility = 0.2\n",
        "simulation_mean = 0.1\n",
        "\n",
        "def emwa_uneven_var(log_returns, t_2, t_1, m_prev, var_prev, tau = 7):\n",
        "    delta = (t_2 - t_1) / 60 / 60 / 24 / 1000\n",
        "    l = 1 / tau\n",
        "    omega = 1 - np.exp(-delta * l)\n",
        "    m = omega * log_returns + (1 - omega) * m_prev\n",
        "    v = (1 - omega) * (var_prev + omega * (log_returns - m_prev) ** 2)\n",
        "    return m, v\n",
        "\n",
        "\n",
        "URL = \"https://api.coingecko.com/api/v3/coins/bitcoin/market_chart/range?vs_currency=usd&from=1591131600&to=1622667600\"\n",
        "underlying_data = requests.get(url = URL).json()['prices']\n",
        "\n",
        "def run_simulation(market_price_coef: float, maturity: float, mode='ITM', option_kind='Call'):\n",
        "    data = []\n",
        "    pool = OptionsPool(\n",
        "        underwriters_tokens=0,\n",
        "        buyers_tokens=0,\n",
        "        pool_state=10000,\n",
        "        fee_percent=1,\n",
        "        min_trade=1,\n",
        "        deposit_at_nth_timestamp=1,\n",
        "        tick=1)\n",
        "\n",
        "    black_sch_price = 0\n",
        "    realised_var = 0\n",
        "    realised_mean = 0\n",
        "\n",
        "    options_state = {}\n",
        "\n",
        "    for i, [timestamp, underlying_price] in enumerate(underlying_data):\n",
        "        rand_maturity = max(2, np.floor(np.random.normal(maturity, maturity * 0.5)))\n",
        "\n",
        "        pool.tick = i\n",
        "\n",
        "        if i > 0:\n",
        "            yesterday_underlying_price = underlying_data[i-1][1]\n",
        "            yesterday_timestamp = underlying_data[i-1][0]\n",
        "        else:\n",
        "            yesterday_underlying_price = underlying_price\n",
        "            yesterday_timestamp = timestamp\n",
        "\n",
        "        # ETH/USDC CALL == PUT USDC/ETH\n",
        "        if option_kind == 'Put':\n",
        "            underlying_price = 1 / underlying_price\n",
        "\n",
        "        log_return = np.log(underlying_price/yesterday_underlying_price)\n",
        "        realised_mean, realised_var = emwa_uneven_var(log_return, timestamp, yesterday_timestamp, realised_mean, realised_var)\n",
        "        realised_vol = np.sqrt(realised_var * 365)\n",
        "\n",
        "        if mode == 'ITM' and option_kind == 'Call':\n",
        "            strike = underlying_price * 0.95 * np.random.normal(1, 0.2)\n",
        "            black_sch_price = black_scholes(underlying_price, strike, maturity / 365, realised_vol)\n",
        "        if mode == 'OTM' and option_kind == 'Call':\n",
        "            strike = underlying_price * 1.05 * np.random.normal(1, 0.2)\n",
        "            black_sch_price = black_scholes(underlying_price, strike, maturity  / 365, realised_vol)\n",
        "        if mode == 'ITM' and option_kind == 'Put':\n",
        "            strike =  underlying_price * 0.95 * np.random.normal(1, 0.2)\n",
        "            black_sch_price = black_scholes(underlying_price, strike, maturity / 365, realised_vol)\n",
        "        if mode == 'OTM' and option_kind == 'Put':\n",
        "            strike = underlying_price * 1.05 * np.random.normal(1, 0.2)\n",
        "            black_sch_price = black_scholes(underlying_price, strike, maturity  / 365, realised_vol)\n",
        "\n",
        "        market_price = black_sch_price * market_price_coef\n",
        "        pool.update_price(underlying=underlying_price, bsch_price=black_sch_price, market_price=market_price)\n",
        "\n",
        "        random_trade = max(0.1, np.random.normal(loc=pool.pool_state * simulation_mean, scale=pool.pool_state * simulation_volatility))\n",
        "        random_noise = np.random.uniform(low=0, high=pool.pool_state * simulation_mean)\n",
        "        random_binary_dist = np.random.dirichlet(np.ones(2),size=1)[0]\n",
        "\n",
        "        # suppliers incentivised\n",
        "        if black_sch_price * pool.c_value >= market_price:\n",
        "            deposit = random_trade\n",
        "            withdrawal = random_noise * random_binary_dist[0]\n",
        "            purchase = random_noise * random_binary_dist[1]\n",
        "        # buyers incentivised\n",
        "        else:\n",
        "            purchase = random_trade\n",
        "            withdrawal = random_noise * random_binary_dist[0]\n",
        "            deposit = random_noise * random_binary_dist[1]\n",
        "\n",
        "        premia = pool.buy(purchase)\n",
        "        expired = 0\n",
        "        executed = 0\n",
        "        options_state[timestamp] = {'payed_per_share': strike + premia / purchase, 'underlying_amount': purchase, 'maturity': rand_maturity}\n",
        "        next_state = {}\n",
        "\n",
        "        for (ts, locked) in options_state.items():\n",
        "            if datetime.fromtimestamp(ts / 1000) + timedelta(days=locked['maturity']) <= datetime.fromtimestamp(timestamp / 1000):\n",
        "                # print(datetime.fromtimestamp(timestamp), datetime.fromtimestamp(ts), locked, pool.pool_state, pool.c_value)\n",
        "                if locked['payed_per_share'] < underlying_price:\n",
        "                    executed = locked['underlying_amount']\n",
        "                    pool.emulate_execution(locked['underlying_amount'], locked['underlying_amount'] * (underlying_price - locked['payed_per_share']) / underlying_price)\n",
        "                else:\n",
        "                    expired = locked['underlying_amount']\n",
        "                    pool.emulate_expiration(locked['underlying_amount'])\n",
        "            else:\n",
        "                next_state[ts] = locked\n",
        "\n",
        "        options_state = next_state\n",
        "\n",
        "        pool.batch_deposit(deposit)\n",
        "        pool.withdraw(withdrawal)\n",
        "\n",
        "        data.append({\n",
        "            'Underlying': underlying_price,\n",
        "            'Strike': strike,\n",
        "            'Log returns': log_return,\n",
        "            'Realised Vol': realised_vol,\n",
        "            'Tick': datetime.fromtimestamp(np.floor(timestamp / 1000)),\n",
        "            'Bsch Price': black_sch_price,\n",
        "            'Trade': random_trade,\n",
        "            'Noise': random_noise,\n",
        "            'Deposit': deposit,\n",
        "            'Batch deposits cumulative': pool.batch_deposits,\n",
        "            'Batch deposits mean': pool.batch_deposits / pool.deposit_at_nth_timestamp,\n",
        "            'Withdrawal': withdrawal,\n",
        "            'Expired': expired,\n",
        "            'Executed': executed,\n",
        "            'Purchased': purchase,\n",
        "            'Premia paid': premia,\n",
        "            'Total cap': pool.capital,\n",
        "            'Free cap': pool.pool_state,\n",
        "            'Simulated random maturity': rand_maturity,\n",
        "            'Pool Capital Utilization': 1 - (pool.pool_state / pool.capital),\n",
        "            'C-value': pool.c_value,\n",
        "            'Underwriter tokens': pool.underwriters_tokens,\n",
        "            'Buyers tokens': pool.buyers_tokens,\n",
        "            'Price difference from market': (black_sch_price * pool.c_value - market_price) / market_price\n",
        "        })\n",
        "\n",
        "    return pd.DataFrame(data)\n",
        "\n"
      ],
      "execution_count": null,
      "outputs": []
    },
    {
      "cell_type": "markdown",
      "metadata": {
        "id": "HSkp9CH8L6TO"
      },
      "source": [
        "# Model for Vault Optimization #"
      ]
    },
    {
      "cell_type": "markdown",
      "metadata": {
        "id": "kIy-AOcLimr5"
      },
      "source": [
        "$\\textbf{Vault Optimization via Lagrange Minimization }$ \\\n",
        "$\\textbf{ 1 }$ Let $I_n$ be the identity matrix, and $D$ be the initial deposit.We define the following terms:\n",
        "$$\\begin{align}\n",
        "\\mathbf{u} &\\overset{\\Delta}{=}& n^{-1}\\mathbf{1}_n \\\\\n",
        "D &\\overset{\\Delta}{=}& \\texttt{ initial deposit} \\\\\n",
        "C_i &\\overset{\\Delta}{=}& \\texttt{ pool i C value} \\\\\n",
        "p_i &\\overset{\\Delta}{=}& \\texttt{ pool i free liquidity} \\\\\n",
        "w_i &\\overset{\\Delta}{=}& \\texttt{pool i weights for deposit} \\\\\n",
        "x_i &\\overset{\\Delta}{=}& e^{-\\frac{w_i D}{p_i}}  \\\\\n",
        "y_i &\\overset{\\Delta}{=}& \\log (C_ix_i) \\\\\n",
        "&=& \\log C_i + \\log x_i\n",
        "\\end{align}$$\n",
        "\n",
        "$\\textbf{ 2 }$Matrix Formulation of the log-normal mean estimator $y^T\\mathbf{u}$: \\\n",
        "$$\n",
        "\\begin{align}\n",
        "y^T\\mathbf{u} &=& \\overline{\\log Cx} \\\\\n",
        "&=& \\frac{\\sum_i \\log(Cx)_i}{n}\\\\\n",
        "\\end{align}\n",
        "$$ \\\n",
        "$\\textbf{ 3 }$Matrix Formulation of the log-normal sample covariance estimator $y^TMy$: \\\n",
        "$$\\begin{align}\n",
        "M &=& {I}_n - n^{-1}\\mathbf{1}_n\\mathbf{1}_n^T \\\\\n",
        "y^TMy &=& (n - 1)\\sum_i^n({\\log(Cx)}_i - \\overline{\\log (Cx)})^2 \\\\\n",
        "\\end{align}\n",
        "$$ \\\n",
        "$\\textbf{ 4 }$Due to the fact that all deposits cause a decrease in C value, and all weights must be non-negative and sum to 1, we have the following conditions that must hold:\n",
        "$$\\begin{align}\n",
        " -\\ln x_i \\frac{p_i}{D} &=& w_i \\\\\n",
        " \\sum p_i \\ln x_i + D &=& 0\n",
        " \\end{align}$$ \\\n",
        "$\\textbf{ 5 }$Proof that condition from $\\mathbf{4}$: $\\sum_i p_i \\log x_i + D = 0$ is equivalent to condition $\\sum_i p_i y_i + F = 0 $ \\\n",
        "$$\\begin{align}\n",
        "y &=& \\log Cx \\\\\n",
        "&=& \\log C + \\log x \\\\\n",
        "y^Tp &=& \\sum_i p_i(\\log C_i + \\log x_i) \\\\\n",
        "&=& \\log C^T p + \\log x^T p \\\\\n",
        "F &\\overset{\\Delta}{=}& D - \\log C^T p\\\\\n",
        "y^Tp + F &=& \\log x^T p + D \\\\\n",
        "\\end{align}$$\n",
        "\n",
        "\n",
        "\n"
      ]
    },
    {
      "cell_type": "code",
      "metadata": {
        "colab": {
          "base_uri": "https://localhost:8080/"
        },
        "id": "xo0iQ9sIP9LS",
        "outputId": "082530aa-2521-4d33-ea72-e06b280d4d71"
      },
      "source": [
        "import cvxpy as cp\n",
        "simulations_cs = []\n",
        "free_cap = []\n",
        "numpools = 1\n",
        "try:\n",
        "    for i in range(0, numpools):\n",
        "         df = run_simulation(market_price_coef=5, maturity=28, mode='ITM', option_kind='Call')\n",
        "         simulations_cs.append(df['C-value'])\n",
        "         free_cap.append(df['Free cap'])\n",
        "finally:\n",
        "    print(simulations_cs[-1])\n",
        "    print(free_cap[-1])"
      ],
      "execution_count": null,
      "outputs": [
        {
          "output_type": "stream",
          "name": "stdout",
          "text": [
            "0      4.452403\n",
            "1      4.691476\n",
            "2      6.449879\n",
            "3      6.502631\n",
            "4      6.638345\n",
            "         ...   \n",
            "360    4.770536\n",
            "361    4.456183\n",
            "362    4.611577\n",
            "363    5.587918\n",
            "364    4.828293\n",
            "Name: C-value, Length: 365, dtype: float64\n",
            "0      1.273745e+04\n",
            "1      1.207202e+04\n",
            "2      8.280957e+03\n",
            "3      8.295456e+03\n",
            "4      8.227852e+03\n",
            "           ...     \n",
            "360    5.998725e+11\n",
            "361    6.441058e+11\n",
            "362    6.210493e+11\n",
            "363    5.952495e+11\n",
            "364    7.059193e+11\n",
            "Name: Free cap, Length: 365, dtype: float64\n"
          ]
        },
        {
          "output_type": "stream",
          "name": "stderr",
          "text": [
            "/usr/local/lib/python3.7/dist-packages/ipykernel_launcher.py:11: RuntimeWarning: divide by zero encountered in double_scalars\n",
            "  # This is added back by InteractiveShellApp.init_path()\n"
          ]
        }
      ]
    },
    {
      "cell_type": "code",
      "metadata": {
        "id": "RiIBNuBoDCAY"
      },
      "source": [
        "\n"
      ],
      "execution_count": null,
      "outputs": []
    },
    {
      "cell_type": "code",
      "metadata": {
        "id": "V-O-pBwuNc9d"
      },
      "source": [
        "def F(log_c,p,D):\n",
        "  return D - _log_c.T@p \n",
        "\n",
        "def expression(y,p,log_c,D):\n",
        "  _F = F(log_c,p,D)\n",
        "  return y.T@p + _F\n",
        "\n",
        "def weights(y,p,log_c,D):\n",
        "  wdp =  -1*(y - log_c)\n",
        "  w = cp.multiply(wdp,p)/D \n",
        "  return w\n",
        "\n",
        "def extract_w(y,p,log_c,D):\n",
        "  wdp = -1*(y-log_c)\n",
        "  w = np.multiply(wdp,p)/D\n",
        "  return w"
      ],
      "execution_count": null,
      "outputs": []
    },
    {
      "cell_type": "code",
      "metadata": {
        "id": "PA3rILclMc2I"
      },
      "source": [
        "# simulate\n",
        "def generate_C(numpools: int):\n",
        "  simulations_cs = []\n",
        "  free_cap = []\n",
        "  numpools = 1\n",
        "  try:\n",
        "    for i in range(0, numpools):\n",
        "      df = run_simulation(market_price_coef=5, maturity=28, mode='ITM', option_kind='Call')\n",
        "      simulations_cs.append(df['C-value'])\n",
        "      free_cap.append(df['Free cap'])\n",
        "  finally:\n",
        "    print(\"C,Pn generated\")\n",
        "  \n",
        "  labels = ['asset '+str(i) for i in range(1,numpools+1)]\n",
        "  C = pd.DataFrame(simulations_cs).T\n",
        "  C.columns = labels\n",
        "  Pn = pd.DataFrame(free_cap).T\n",
        "  Pn.columns = labels\n",
        "  return C,Pn"
      ],
      "execution_count": null,
      "outputs": []
    },
    {
      "cell_type": "markdown",
      "metadata": {
        "id": "4RDZdD3bLS6q"
      },
      "source": [
        "# Case 1 #"
      ]
    },
    {
      "cell_type": "code",
      "metadata": {
        "colab": {
          "base_uri": "https://localhost:8080/"
        },
        "id": "BsyrYP0nCFUg",
        "outputId": "1074141f-a51c-4ad6-dfa1-82d096f3c290"
      },
      "source": [
        "\"\"\"\n",
        "case 1 \n",
        "D == p\n",
        "n == 1\n",
        "\"\"\"\n",
        "\n",
        "import cvxpy as cp\n",
        "n = 1\n",
        "C,Pn = generate_C(n)\n",
        "\n",
        "_c = C.iloc[0,:].values\n",
        "_log_c = np.log(_c)\n",
        "_p = Pn.iloc[0,:].values\n",
        "n = len(_c)\n",
        "_M = M(n)\n",
        "_u = u(n)\n",
        "D = _p\n",
        "y = cp.Variable(n)\n",
        "gamma = cp.Parameter(nonneg=True)\n",
        "mean = _u.T@y \n",
        "var = cp.quad_form(y, _M)\n",
        "prob = cp.Problem(cp.Maximize(mean - gamma*var), \n",
        "                  [expression(y,_p,_log_c,D) == 0,\n",
        "                  cp.sum(weights(y,_p,_log_c,D)) == 1],)\n",
        "SAMPLES = 100\n",
        "risk_data = np.zeros(SAMPLES)\n",
        "ret_data = np.zeros(SAMPLES)\n",
        "gamma_vals = np.logspace(-2, 3, num=SAMPLES)\n",
        "for i in range(SAMPLES):\n",
        "    gamma.value = gamma_vals[i]\n",
        "    prob.solve()\n",
        "    risk_data[i] = cp.sqrt(var).value\n",
        "    ret_data[i] = mean.value\n",
        "\n",
        "extract_w(y.value,_p,_log_c,D)"
      ],
      "execution_count": null,
      "outputs": [
        {
          "output_type": "stream",
          "name": "stderr",
          "text": [
            "/usr/local/lib/python3.7/dist-packages/ipykernel_launcher.py:11: RuntimeWarning: divide by zero encountered in double_scalars\n",
            "  # This is added back by InteractiveShellApp.init_path()\n"
          ]
        },
        {
          "output_type": "stream",
          "name": "stdout",
          "text": [
            "C,Pn generated\n"
          ]
        },
        {
          "output_type": "execute_result",
          "data": {
            "text/plain": [
              "array([1.])"
            ]
          },
          "metadata": {},
          "execution_count": 22
        }
      ]
    },
    {
      "cell_type": "markdown",
      "metadata": {
        "id": "wUzRP-l1LVzC"
      },
      "source": [
        "# Case 2 #"
      ]
    },
    {
      "cell_type": "code",
      "metadata": {
        "colab": {
          "base_uri": "https://localhost:8080/"
        },
        "id": "4WiQC59ICO6o",
        "outputId": "8c4b991e-dd38-4880-c9c4-a4dd76610bc6"
      },
      "source": [
        "\"\"\"\n",
        "case 2\n",
        "n=3\n",
        "\n",
        "p1 = 10\n",
        "p2 = 10\n",
        "p3 = 100\n",
        "\n",
        "D=60\n",
        "\n",
        "c1 =1 \n",
        "c2 =1000\n",
        "c3=1\n",
        "\"\"\"\n",
        "_c = np.array([1,1000,1])\n",
        "_log_c = np.log(_c)\n",
        "_p = np.array([10,10,100]) \n",
        "n = 3\n",
        "_M = M(n)\n",
        "_u = u(n)\n",
        "D = 60\n",
        "y = cp.Variable(n)\n",
        "gamma = cp.Parameter(nonneg=True)\n",
        "mean = _u.T@y \n",
        "var = cp.quad_form(y, _M)\n",
        "prob = cp.Problem(cp.Maximize(mean - gamma*var), \n",
        "                  [expression(y,_p,_log_c,D) == 0,\n",
        "                   cp.sum(weights(y,_p,_log_c,D)) == 1,\n",
        "                   weights(y,_p,_log_c,D) >= 0],)\n",
        "\n",
        "SAMPLES = 100\n",
        "risk_data = np.zeros(SAMPLES)\n",
        "ret_data = np.zeros(SAMPLES)\n",
        "gamma_vals = np.logspace(-2, 3, num=SAMPLES)\n",
        "for i in range(SAMPLES):\n",
        "    gamma.value = gamma_vals[i]\n",
        "    prob.solve()\n",
        "    risk_data[i] = cp.sqrt(var).value\n",
        "    ret_data[i] = mean.value\n",
        "\n",
        "extract_w(y.value,_p,_log_c,D)"
      ],
      "execution_count": null,
      "outputs": [
        {
          "output_type": "execute_result",
          "data": {
            "text/plain": [
              "array([-9.86513061e-19,  1.00000000e+00, -7.08923547e-17])"
            ]
          },
          "metadata": {},
          "execution_count": 23
        }
      ]
    },
    {
      "cell_type": "code",
      "metadata": {
        "id": "thWe1iHHOE6O"
      },
      "source": [
        ""
      ],
      "execution_count": null,
      "outputs": []
    }
  ]
}