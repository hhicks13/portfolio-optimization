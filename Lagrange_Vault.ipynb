{
  "nbformat": 4,
  "nbformat_minor": 0,
  "metadata": {
    "colab": {
      "name": "Lagrange-Vault.ipynb",
      "provenance": [],
      "collapsed_sections": [],
      "authorship_tag": "ABX9TyOLP2GkS/pTAmY8LxI/i1DX",
      "include_colab_link": true
    },
    "kernelspec": {
      "name": "python3",
      "display_name": "Python 3"
    },
    "language_info": {
      "name": "python"
    }
  },
  "cells": [
    {
      "cell_type": "markdown",
      "metadata": {
        "id": "view-in-github",
        "colab_type": "text"
      },
      "source": [
        "<a href=\"https://colab.research.google.com/github/hhicks13/portfolio-optimization/blob/main/Lagrange_Vault.ipynb\" target=\"_parent\"><img src=\"https://colab.research.google.com/assets/colab-badge.svg\" alt=\"Open In Colab\"/></a>"
      ]
    },
    {
      "cell_type": "markdown",
      "metadata": {
        "id": "ooL9d1B25c4r"
      },
      "source": [
        "\n",
        "\\begin{array}{ll} \\mbox{max} & y^T\\mathbf{u} - \\frac{1}{2} \\gamma y^T M y\\\\\n",
        "\\mbox{subject to} & {\\bf \\log y}^Tp = -F,\n",
        "\\end{array}\n",
        "$\\textbf{Solution:}$\n",
        "> Define the Lagrangian:\n",
        "$$\\mathcal{L}(y,\\lambda) = y^T\\mathbf{u} - \\frac{1}{2}\\gamma y^T M y - \\lambda(y^Tp + F) $$\n",
        "> Derive 1st order conditions:\n",
        "$$\\begin{align} \\frac{\\partial\\mathcal{L}}{\\partial y} &=& \\mathbf{u} -\\gamma M y - \\gamma p  \\overset{\\Delta}{=} 0 \\\\\n",
        " \\frac{\\partial\\mathcal{L}}{\\partial \\lambda} &=& F + y^T {\\bf p} \\overset{\\Delta}{=} 0\n",
        " \\end{align}$$\n"
      ]
    },
    {
      "cell_type": "markdown",
      "metadata": {
        "id": "kIy-AOcLimr5"
      },
      "source": [
        "$\\textbf{Vault Optimization via Lagrangian }$ \\\n",
        "$\\textbf{ 1 }$ Let $I_n$ be the identity matrix, and $D$ be the initial deposit.We define the following terms:\n",
        "$$\\begin{align}\n",
        "\\mathbf{u} &\\overset{\\Delta}{=}& n^{-1}\\mathbf{1}_n \\\\\n",
        "D &\\overset{\\Delta}{=}& \\texttt{ initial deposit} \\\\\n",
        "C_i &\\overset{\\Delta}{=}& \\texttt{ pool i C value} \\\\\n",
        "p_i &\\overset{\\Delta}{=}& \\texttt{ pool i free liquidity} \\\\\n",
        "w_i &\\overset{\\Delta}{=}& \\texttt{pool i weights for deposit} \\\\\n",
        "x_i &\\overset{\\Delta}{=}& e^{-\\frac{w_i D}{p_i}}  \\\\\n",
        "y_i &\\overset{\\Delta}{=}& \\log (C_ix_i) \\\\\n",
        "&=& \\log C_i + \\log x_i\n",
        "\\end{align}$$\n",
        "\n",
        "$\\textbf{ 2 }$Matrix Formulation of the log-normal mean estimator $y^T\\mathbf{u}$: \\\n",
        "$$\n",
        "\\begin{align}\n",
        "y^T\\mathbf{u} &=& \\overline{\\log Cx} \\\\\n",
        "&=& \\frac{\\sum_i \\log(Cx)_i}{n}\\\\\n",
        "\\end{align}\n",
        "$$ \\\n",
        "$\\textbf{ 3 }$Matrix Formulation of the log-normal sample covariance estimator $y^TMy$: \\\n",
        "$$\\begin{align}\n",
        "M &=& {I}_n - n^{-1}\\mathbf{1}_n\\mathbf{1}_n^T \\\\\n",
        "y^TMy &=& (n - 1)\\sum_i^n({\\log(Cx)}_i - \\overline{\\log (Cx)})^2 \\\\\n",
        "\\end{align}\n",
        "$$ \\\n",
        "$\\textbf{ 4 }$Due to the fact that all deposits cause a decrease in C value, and all weights must be non-negative and sum to 1, we have the following conditions that must hold:\n",
        "$$\\begin{align}\n",
        " -\\ln x_i \\frac{p_i}{D} &=& w_i \\\\\n",
        " \\sum p_i \\ln x_i + D &=& 0\n",
        " \\end{align}$$ \\\n",
        "$\\textbf{ 5 }$Proof that condition from $\\mathbf{4}$: $\\sum_i p_i \\log x_i + D = 0$ is equivalent to condition $\\sum_i p_i y_i + F = 0 $ \\\n",
        "$$\\begin{align}\n",
        "y &=& \\log Cx \\\\\n",
        "&=& \\log C + \\log x \\\\\n",
        "y^Tp &=& \\sum_i p_i(\\log C_i + \\log x_i) \\\\\n",
        "&=& \\log C^T p + \\log x^T p \\\\\n",
        "F &\\overset{\\Delta}{=}& D - \\log C^T p\\\\\n",
        "y^Tp + F &=& \\log x^T p + D \\\\\n",
        "\\end{align}$$\n",
        "\n",
        "\n",
        "\n"
      ]
    },
    {
      "cell_type": "code",
      "metadata": {
        "id": "V-O-pBwuNc9d"
      },
      "source": [
        "import numpy as np\n",
        "\n",
        "def u(n):\n",
        "  return (1/n)*np.ones(n)\n",
        "\n",
        "def M(n):\n",
        "  return np.identity(n) + (-1/n)*np.ones(shape=(n,n))\n",
        "\n",
        "def F(log_c,p,D):\n",
        "  resid = log_c.T@p\n",
        "  return D - resid\n",
        "\n",
        "def expression(y,p,log_c,D):\n",
        "  _F = F(log_c,p,D)\n",
        "  return y.T@p + _F\n",
        "\n",
        "def weights(y,p,log_c,D):\n",
        "  wdp =  -1*(y - log_c)\n",
        "  w = cp.multiply(wdp,p)/D \n",
        "  return w\n",
        "\n",
        "def extract_w(y,p,log_c,D):\n",
        "  wdp = -1*(y-log_c)\n",
        "  w = np.multiply(wdp,p)/D\n",
        "  return w"
      ],
      "execution_count": 2,
      "outputs": []
    },
    {
      "cell_type": "code",
      "metadata": {
        "id": "CM8Nse-9KPmv"
      },
      "source": [
        "def solve_portfolio(n,_c,_p,D):\n",
        "  _u = u(n)\n",
        "  _M = M(n)\n",
        "  y = cp.Variable(n)\n",
        "  _log_c = np.log(_c)\n",
        "  gamma = cp.Parameter(nonneg=True)\n",
        "  mean = _u.T@y \n",
        "  var = cp.quad_form(y, _M)\n",
        "  prob = cp.Problem(cp.Maximize(mean - gamma*var), \n",
        "                  [expression(y,_p,_log_c,D) == 0,\n",
        "                   cp.sum(weights(y,_p,_log_c,D)) == 1,\n",
        "                   weights(y,_p,_log_c,D) >= 0],)\n",
        "  gamma.value = 1.0\n",
        "  prob.solve()\n",
        "  return extract_w(y.value,_p,_log_c,D)"
      ],
      "execution_count": 3,
      "outputs": []
    },
    {
      "cell_type": "code",
      "metadata": {
        "colab": {
          "base_uri": "https://localhost:8080/"
        },
        "id": "4WiQC59ICO6o",
        "outputId": "98bda8c7-d175-40c4-cef7-7050e60204c4"
      },
      "source": [
        "import numpy as np\n",
        "import cvxpy as cp\n",
        "\"\"\"\n",
        "corner case\n",
        "\"\"\"\n",
        "n = 1\n",
        "_c = np.ones(n)*10\n",
        "_p = np.ones(n)*10\n",
        "print(\"corner case 1:\")\n",
        "print(\"C:\",_c,\"\\n\")\n",
        "print(\"P:\",_p,\"\\n\")\n",
        "\n",
        "D = _p[0]\n",
        "cutoff = 4\n",
        "w0 = np.around(solve_portfolio(n,_c,_p,D),cutoff)\n",
        "print(\"D = p \\n Weights: \",w0,\"\\n sum(weights):\",sum(w0),\"\\n\")"
      ],
      "execution_count": 4,
      "outputs": [
        {
          "output_type": "stream",
          "name": "stdout",
          "text": [
            "corner case 1:\n",
            "C: [10.] \n",
            "\n",
            "P: [10.] \n",
            "\n",
            "D = p \n",
            " Weights:  [1.] \n",
            " sum(weights): 1.0 \n",
            "\n"
          ]
        }
      ]
    },
    {
      "cell_type": "code",
      "metadata": {
        "id": "4ZINJZamQB-h",
        "colab": {
          "base_uri": "https://localhost:8080/"
        },
        "outputId": "b23d499d-3aaa-4f5c-c926-fdd95806ca62"
      },
      "source": [
        "n = 3\n",
        "_c = np.array([1,1000,1])\n",
        "_p = np.array([10,10,1000])\n",
        "print(\"corner case 2\")\n",
        "print(\"C:\",_c,\"\\n\")\n",
        "print(\"P:\",_p,\"\\n\")\n",
        "\n",
        "D = 60\n",
        "cutoff = 4\n",
        "w0 = np.around(solve_portfolio(n,_c,_p,D),cutoff)\n",
        "print(\"D = p \\n Weights: \",w0,\"\\n sum(weights):\",sum(w0),\"\\n\")"
      ],
      "execution_count": 5,
      "outputs": [
        {
          "output_type": "stream",
          "name": "stdout",
          "text": [
            "corner case 2\n",
            "C: [   1 1000    1] \n",
            "\n",
            "P: [  10   10 1000] \n",
            "\n",
            "D = p \n",
            " Weights:  [-0.  1. -0.] \n",
            " sum(weights): 1.0 \n",
            "\n"
          ]
        }
      ]
    },
    {
      "cell_type": "markdown",
      "metadata": {
        "id": "E_VZyikGH94d"
      },
      "source": [
        "# case 0 #\n",
        "equal c\n",
        "equal p"
      ]
    },
    {
      "cell_type": "code",
      "metadata": {
        "id": "thWe1iHHOE6O",
        "colab": {
          "base_uri": "https://localhost:8080/"
        },
        "outputId": "bb36c834-bf0e-41dd-e7d0-9798643fa07c"
      },
      "source": [
        "case0 = \"equal c,equal p\"\n",
        "n = 6\n",
        "_c = np.ones(n)*10\n",
        "_p = np.ones(n)*10\n",
        "print(case0)\n",
        "print(\"C:\",_c,\"\\n\")\n",
        "print(\"P:\",_p,\"\\n\")\n",
        "\n",
        "D1 = np.mean(_p)\n",
        "D2 = np.sum(_p)\n",
        "D3 = np.sum(_p)/10\n",
        "cutoff = 3\n",
        "w0 = np.around(solve_portfolio(n,_c,_p,D1),cutoff)\n",
        "print(\"D = mean(p)\\n Weights: \",w0,\"\\n sum(weights):\",sum(w0),\"\\n\")\n",
        "w1 = np.around(solve_portfolio(n,_c,_p,D2),cutoff)\n",
        "print(\"D = sum(p)\\n Weights: \",w0,\"\\n sum(weights):\",sum(w1),\"\\n\")\n",
        "w2 = np.around(solve_portfolio(n,_c,_p,D3),cutoff)\n",
        "print(\"D = sum(p)/10 \\n Weights: \",w0,\"\\n sum(weights):\",sum(w1),\"\\n\")"
      ],
      "execution_count": 6,
      "outputs": [
        {
          "output_type": "stream",
          "name": "stdout",
          "text": [
            "equal c,equal p\n",
            "C: [10. 10. 10. 10. 10. 10.] \n",
            "\n",
            "P: [10. 10. 10. 10. 10. 10.] \n",
            "\n",
            "D = mean(p)\n",
            " Weights:  [0.167 0.167 0.167 0.167 0.167 0.167] \n",
            " sum(weights): 1.002 \n",
            "\n",
            "D = sum(p)\n",
            " Weights:  [0.167 0.167 0.167 0.167 0.167 0.167] \n",
            " sum(weights): 1.002 \n",
            "\n",
            "D = sum(p)/10 \n",
            " Weights:  [0.167 0.167 0.167 0.167 0.167 0.167] \n",
            " sum(weights): 1.002 \n",
            "\n"
          ]
        }
      ]
    },
    {
      "cell_type": "markdown",
      "metadata": {
        "id": "gTa0LqTDMAHS"
      },
      "source": [
        "# Case 1 #\n",
        "equal c,\n",
        "unequal p"
      ]
    },
    {
      "cell_type": "code",
      "metadata": {
        "colab": {
          "base_uri": "https://localhost:8080/"
        },
        "id": "72abq9KrIopO",
        "outputId": "a909bd8c-953e-426a-a164-11d07aa82ed0"
      },
      "source": [
        "case1 = \"equal c,unequal p\"\n",
        "n = 6\n",
        "_c = np.ones(n)*10\n",
        "_p = np.arange(1,n+1)*200\n",
        "D1 = np.mean(_p)\n",
        "D2 = np.sum(_p)\n",
        "D3 = np.sum(_p)/10\n",
        "cutoff = 3\n",
        "print(case1)\n",
        "print(\"C:\",_c,\"\\n\")\n",
        "print(\"P:\",_p,\"\\n\")\n",
        "\n",
        "w0 = np.around(solve_portfolio(n,_c,_p,D1),cutoff)\n",
        "print(\"D = mean(p)\\n Weights: \",w0,\"\\n sum(weights):\",sum(w0),\"\\n\")\n",
        "w1 = np.around(solve_portfolio(n,_c,_p,D2),cutoff)\n",
        "print(\"D = sum(p)\\n Weights: \",w1,\"\\n sum(weights):\",sum(w1),\"\\n\")\n",
        "w2 = np.around(solve_portfolio(n,_c,_p,D3),cutoff)\n",
        "print(\"D = sum(p)/10 \\n Weights: \",w2,\"\\n sum(weights):\",sum(w1),\"\\n\")"
      ],
      "execution_count": 7,
      "outputs": [
        {
          "output_type": "stream",
          "name": "stdout",
          "text": [
            "equal c,unequal p\n",
            "C: [10. 10. 10. 10. 10. 10.] \n",
            "\n",
            "P: [ 200  400  600  800 1000 1200] \n",
            "\n",
            "D = mean(p)\n",
            " Weights:  [0.025 0.063 0.116 0.181 0.261 0.354] \n",
            " sum(weights): 1.0 \n",
            "\n",
            "D = sum(p)\n",
            " Weights:  [0.044 0.09  0.138 0.189 0.242 0.297] \n",
            " sum(weights): 1.0 \n",
            "\n",
            "D = sum(p)/10 \n",
            " Weights:  [0.012 0.043 0.098 0.175 0.275 0.398] \n",
            " sum(weights): 1.0 \n",
            "\n"
          ]
        }
      ]
    },
    {
      "cell_type": "markdown",
      "metadata": {
        "id": "_61HZxekM3PP"
      },
      "source": [
        "# Case 2 #\n",
        "unequal c, unequal p"
      ]
    },
    {
      "cell_type": "code",
      "metadata": {
        "colab": {
          "base_uri": "https://localhost:8080/"
        },
        "id": "6p4T-neXMSqW",
        "outputId": "6fd2ae57-d734-4602-872d-007d101d18b6"
      },
      "source": [
        "case2 =\" unequal c unequal p \"\n",
        "n = 7\n",
        "_c = np.linspace(0.9,2*np.exp(1),n)\n",
        "_p = np.arange(1,n+1)*200\n",
        "D1 = np.mean(_p)\n",
        "D2 = np.sum(_p)\n",
        "D3 = np.sum(_p)/10\n",
        "cutoff = 3\n",
        "print(case2)\n",
        "print(\"C:\",_c,\"\\n\")\n",
        "print(\"P:\",_p,\"\\n\")\n",
        "\n",
        "w0 = np.around(solve_portfolio(n,_c,_p,D1),cutoff)\n",
        "print(\"D = mean(p)\\n Weights: \",w0,\"\\n sum(weights):\",sum(w0),\"\\n\")\n",
        "w1 = np.around(solve_portfolio(n,_c,_p,D2),cutoff)\n",
        "print(\"D = sum(p)\\n Weights: \",w1,\"\\n sum(weights):\",sum(w1),\"\\n\")\n",
        "w2 = np.around(solve_portfolio(n,_c,_p,D3),cutoff)\n",
        "print(\"D = sum(p)/10 \\n Weights: \",w2,\"\\n sum(weights):\",sum(w1),\"\\n\")"
      ],
      "execution_count": 8,
      "outputs": [
        {
          "output_type": "stream",
          "name": "stdout",
          "text": [
            " unequal c unequal p \n",
            "C: [0.9        1.65609394 2.41218789 3.16828183 3.92437577 4.68046971\n",
            " 5.43656366] \n",
            "\n",
            "P: [ 200  400  600  800 1000 1200 1400] \n",
            "\n",
            "D = mean(p)\n",
            " Weights:  [-0.    -0.    -0.    -0.     0.124  0.329  0.547] \n",
            " sum(weights): 1.0 \n",
            "\n",
            "D = sum(p)\n",
            " Weights:  [0.    0.014 0.061 0.121 0.19  0.266 0.349] \n",
            " sum(weights): 1.001 \n",
            "\n",
            "D = sum(p)/10 \n",
            " Weights:  [-0.     0.    -0.    -0.     0.071  0.328  0.601] \n",
            " sum(weights): 1.001 \n",
            "\n"
          ]
        }
      ]
    },
    {
      "cell_type": "code",
      "metadata": {
        "id": "GQBMn6q9NKwJ"
      },
      "source": [
        ""
      ],
      "execution_count": null,
      "outputs": []
    }
  ]
}