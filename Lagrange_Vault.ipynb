{
  "nbformat": 4,
  "nbformat_minor": 0,
  "metadata": {
    "colab": {
      "name": "Lagrange-Vault.ipynb",
      "provenance": [],
      "authorship_tag": "ABX9TyPnXDqLlp7ZVveHdLoOocAr",
      "include_colab_link": true
    },
    "kernelspec": {
      "name": "python3",
      "display_name": "Python 3"
    },
    "language_info": {
      "name": "python"
    }
  },
  "cells": [
    {
      "cell_type": "markdown",
      "metadata": {
        "id": "view-in-github",
        "colab_type": "text"
      },
      "source": [
        "<a href=\"https://colab.research.google.com/github/hhicks13/portfolio-optimization/blob/main/Lagrange_Vault.ipynb\" target=\"_parent\"><img src=\"https://colab.research.google.com/assets/colab-badge.svg\" alt=\"Open In Colab\"/></a>"
      ]
    },
    {
      "cell_type": "markdown",
      "metadata": {
        "id": "ooL9d1B25c4r"
      },
      "source": [
        "\n",
        "\\begin{array}{ll} \\mbox{max} & y^T\\mathbf{u} - \\frac{1}{2} \\gamma y^T M y\\\\\n",
        "\\mbox{subject to} & {\\bf \\log y}^Tp = -F,\n",
        "\\end{array}\n",
        "$\\textbf{Solution:}$\n",
        "> Define the Lagrangian:\n",
        "$$\\mathcal{L}(y,\\lambda) = y^T\\mathbf{u} - \\frac{1}{2}\\gamma y^T M y - \\lambda(y^Tp + F) $$\n",
        "> Derive 1st order conditions:\n",
        "$$\\begin{align} \\frac{\\partial\\mathcal{L}}{\\partial y} &=& \\mathbf{u} -\\gamma M y - \\gamma p  \\overset{\\Delta}{=} 0 \\\\\n",
        " \\frac{\\partial\\mathcal{L}}{\\partial \\lambda} &=& F + y^T {\\bf p} \\overset{\\Delta}{=} 0\n",
        " \\end{align}$$\n"
      ]
    },
    {
      "cell_type": "markdown",
      "metadata": {
        "id": "kIy-AOcLimr5"
      },
      "source": [
        "$\\textbf{Vault Optimization via Lagrange Minimization }$ \\\n",
        "$\\textbf{ 1 }$ Let $I_n$ be the identity matrix, and $D$ be the initial deposit.We define the following terms:\n",
        "$$\\begin{align}\n",
        "\\mathbf{u} &\\overset{\\Delta}{=}& n^{-1}\\mathbf{1}_n \\\\\n",
        "D &\\overset{\\Delta}{=}& \\texttt{ initial deposit} \\\\\n",
        "C_i &\\overset{\\Delta}{=}& \\texttt{ pool i C value} \\\\\n",
        "p_i &\\overset{\\Delta}{=}& \\texttt{ pool i free liquidity} \\\\\n",
        "w_i &\\overset{\\Delta}{=}& \\texttt{pool i weights for deposit} \\\\\n",
        "x_i &\\overset{\\Delta}{=}& e^{-\\frac{w_i D}{p_i}}  \\\\\n",
        "y_i &\\overset{\\Delta}{=}& \\log (C_ix_i) \\\\\n",
        "&=& \\log C_i + \\log x_i\n",
        "\\end{align}$$\n",
        "\n",
        "$\\textbf{ 2 }$Matrix Formulation of the log-normal mean estimator $y^T\\mathbf{u}$: \\\n",
        "$$\n",
        "\\begin{align}\n",
        "y^T\\mathbf{u} &=& \\overline{\\log Cx} \\\\\n",
        "&=& \\frac{\\sum_i \\log(Cx)_i}{n}\\\\\n",
        "\\end{align}\n",
        "$$ \\\n",
        "$\\textbf{ 3 }$Matrix Formulation of the log-normal sample covariance estimator $y^TMy$: \\\n",
        "$$\\begin{align}\n",
        "M &=& {I}_n - n^{-1}\\mathbf{1}_n\\mathbf{1}_n^T \\\\\n",
        "y^TMy &=& (n - 1)\\sum_i^n({\\log(Cx)}_i - \\overline{\\log (Cx)})^2 \\\\\n",
        "\\end{align}\n",
        "$$ \\\n",
        "$\\textbf{ 4 }$Due to the fact that all deposits cause a decrease in C value, and all weights must be non-negative and sum to 1, we have the following conditions that must hold:\n",
        "$$\\begin{align}\n",
        " -\\ln x_i \\frac{p_i}{D} &=& w_i \\\\\n",
        " \\sum p_i \\ln x_i + D &=& 0\n",
        " \\end{align}$$ \\\n",
        "$\\textbf{ 5 }$Proof that condition from $\\mathbf{4}$: $\\sum_i p_i \\log x_i + D = 0$ is equivalent to condition $\\sum_i p_i y_i + F = 0 $ \\\n",
        "$$\\begin{align}\n",
        "y &=& \\log Cx \\\\\n",
        "&=& \\log C + \\log x \\\\\n",
        "y^Tp &=& \\sum_i p_i(\\log C_i + \\log x_i) \\\\\n",
        "&=& \\log C^T p + \\log x^T p \\\\\n",
        "F &\\overset{\\Delta}{=}& D - \\log C^T p\\\\\n",
        "y^Tp + F &=& \\log x^T p + D \\\\\n",
        "\\end{align}$$\n",
        "\n",
        "\n",
        "\n"
      ]
    },
    {
      "cell_type": "markdown",
      "metadata": {
        "id": "4RDZdD3bLS6q"
      },
      "source": [
        "# Auxiliary Functions #"
      ]
    },
    {
      "cell_type": "code",
      "metadata": {
        "id": "BsyrYP0nCFUg"
      },
      "source": [
        "import numpy as np\n",
        "\n",
        "def u(n):\n",
        "  return (1/n)*np.ones(n)\n",
        "\n",
        "def M(n):\n",
        "  return np.identity(n) + (-1/n)*np.ones(shape=(n,n))\n",
        "\n",
        "def F(log_c,p,D):\n",
        "  return D - _log_c.T@p \n",
        "\n",
        "def expression(y,p,log_c,D):\n",
        "  _F = F(log_c,p,D)\n",
        "  return y.T@p + _F\n",
        "\n",
        "def weights(y,p,log_c,D):\n",
        "  wdp =  -1*(y - log_c)\n",
        "  w = cp.multiply(wdp,p)/D \n",
        "  return w\n",
        "\n",
        "def extract_w(y,p,log_c,D):\n",
        "  wdp = -1*(y-log_c)\n",
        "  w = np.multiply(wdp,p)/D\n",
        "  return w"
      ],
      "execution_count": 5,
      "outputs": []
    },
    {
      "cell_type": "markdown",
      "metadata": {
        "id": "wUzRP-l1LVzC"
      },
      "source": [
        "# Test Case #"
      ]
    },
    {
      "cell_type": "code",
      "metadata": {
        "colab": {
          "base_uri": "https://localhost:8080/"
        },
        "id": "4WiQC59ICO6o",
        "outputId": "18a83c1e-1973-43b8-ff54-bdd6761a01cf"
      },
      "source": [
        "import numpy as np\n",
        "import cvxpy as cp\n",
        "\n",
        "_c = np.array([1,1000,1])\n",
        "_log_c = np.log(_c)\n",
        "_p = np.array([10,10,100]) \n",
        "n = 3\n",
        "_M = M(n)\n",
        "_u = u(n)\n",
        "D = 60\n",
        "y = cp.Variable(n)\n",
        "gamma = cp.Parameter(nonneg=True)\n",
        "mean = _u.T@y \n",
        "var = cp.quad_form(y, _M)\n",
        "prob = cp.Problem(cp.Maximize(mean - gamma*var), \n",
        "                  [expression(y,_p,_log_c,D) == 0,\n",
        "                   cp.sum(weights(y,_p,_log_c,D)) == 1,\n",
        "                   weights(y,_p,_log_c,D) >= 0],)\n",
        "\n",
        "SAMPLES = 100\n",
        "risk_data = np.zeros(SAMPLES)\n",
        "ret_data = np.zeros(SAMPLES)\n",
        "gamma_vals = np.logspace(-2, 3, num=SAMPLES)\n",
        "for i in range(SAMPLES):\n",
        "    gamma.value = gamma_vals[i]\n",
        "    prob.solve()\n",
        "    risk_data[i] = cp.sqrt(var).value\n",
        "    ret_data[i] = mean.value\n",
        "\n",
        "extract_w(y.value,_p,_log_c,D)"
      ],
      "execution_count": 6,
      "outputs": [
        {
          "output_type": "execute_result",
          "data": {
            "text/plain": [
              "array([-9.86513061e-19,  1.00000000e+00, -7.08923547e-17])"
            ]
          },
          "metadata": {},
          "execution_count": 6
        }
      ]
    },
    {
      "cell_type": "code",
      "metadata": {
        "id": "thWe1iHHOE6O"
      },
      "source": [
        ""
      ],
      "execution_count": null,
      "outputs": []
    }
  ]
}